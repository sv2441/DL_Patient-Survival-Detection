{
 "cells": [
  {
   "cell_type": "markdown",
   "id": "5cd5de4b",
   "metadata": {
    "papermill": {
     "duration": 0.01645,
     "end_time": "2021-10-01T19:02:32.879799",
     "exception": false,
     "start_time": "2021-10-01T19:02:32.863349",
     "status": "completed"
    },
    "tags": []
   },
   "source": [
    "# Simplest NN Baseline with Pytorch (for Beginners)"
   ]
  },
  {
   "cell_type": "code",
   "execution_count": 45,
   "id": "724c4e5a",
   "metadata": {
    "_cell_guid": "b1076dfc-b9ad-4769-8c92-a6c4dae69d19",
    "_uuid": "8f2839f25d086af736a60e9eeb907d3b93b6e0e5",
    "execution": {
     "iopub.execute_input": "2021-10-01T19:02:32.916519Z",
     "iopub.status.busy": "2021-10-01T19:02:32.915035Z",
     "iopub.status.idle": "2021-10-01T19:02:35.058568Z",
     "shell.execute_reply": "2021-10-01T19:02:35.057891Z",
     "shell.execute_reply.started": "2021-10-01T18:45:50.445906Z"
    },
    "papermill": {
     "duration": 2.163557,
     "end_time": "2021-10-01T19:02:35.058733",
     "exception": false,
     "start_time": "2021-10-01T19:02:32.895176",
     "status": "completed"
    },
    "tags": []
   },
   "outputs": [],
   "source": [
    "import numpy as np\n",
    "import pandas as pd\n",
    "import matplotlib.pyplot as plt\n",
    "\n",
    "import torch\n",
    "import torch.nn as nn\n",
    "import torch.optim as optim\n",
    "from torch.utils.data import Dataset, DataLoader\n",
    "\n",
    "from sklearn.preprocessing import StandardScaler    \n",
    "from sklearn.model_selection import train_test_split\n",
    "from sklearn.metrics import confusion_matrix, classification_report"
   ]
  },
  {
   "cell_type": "code",
   "execution_count": 46,
   "id": "b8a51d31",
   "metadata": {
    "execution": {
     "iopub.execute_input": "2021-10-01T19:02:35.092486Z",
     "iopub.status.busy": "2021-10-01T19:02:35.091860Z",
     "iopub.status.idle": "2021-10-01T19:03:11.298377Z",
     "shell.execute_reply": "2021-10-01T19:03:11.297850Z",
     "shell.execute_reply.started": "2021-10-01T18:45:50.454615Z"
    },
    "papermill": {
     "duration": 36.224437,
     "end_time": "2021-10-01T19:03:11.298523",
     "exception": false,
     "start_time": "2021-10-01T19:02:35.074086",
     "status": "completed"
    },
    "tags": []
   },
   "outputs": [],
   "source": [
    "train = pd.read_csv('Notebooks/icu_data.csv')\n",
    "# test = pd.read_csv('test.csv')"
   ]
  },
  {
   "cell_type": "code",
   "execution_count": 47,
   "id": "650117fc",
   "metadata": {
    "execution": {
     "iopub.execute_input": "2021-10-01T19:03:11.377280Z",
     "iopub.status.busy": "2021-10-01T19:03:11.338087Z",
     "iopub.status.idle": "2021-10-01T19:03:11.717278Z",
     "shell.execute_reply": "2021-10-01T19:03:11.716743Z",
     "shell.execute_reply.started": "2021-10-01T18:46:15.664293Z"
    },
    "papermill": {
     "duration": 0.403461,
     "end_time": "2021-10-01T19:03:11.717423",
     "exception": false,
     "start_time": "2021-10-01T19:03:11.313962",
     "status": "completed"
    },
    "tags": []
   },
   "outputs": [],
   "source": [
    "X = train.drop(['hospital_death'], axis=1)\n",
    "y = train['hospital_death']\n",
    "# test = test.drop(columns=['id'])"
   ]
  },
  {
   "cell_type": "code",
   "execution_count": 48,
   "id": "4cdd8352",
   "metadata": {
    "execution": {
     "iopub.execute_input": "2021-10-01T19:03:12.838742Z",
     "iopub.status.busy": "2021-10-01T19:03:12.838072Z",
     "iopub.status.idle": "2021-10-01T19:03:14.237858Z",
     "shell.execute_reply": "2021-10-01T19:03:14.238355Z",
     "shell.execute_reply.started": "2021-10-01T18:46:17.086478Z"
    },
    "papermill": {
     "duration": 1.418588,
     "end_time": "2021-10-01T19:03:14.238543",
     "exception": false,
     "start_time": "2021-10-01T19:03:12.819955",
     "status": "completed"
    },
    "tags": []
   },
   "outputs": [],
   "source": [
    "sc = StandardScaler()\n",
    "X = sc.fit_transform(X)\n",
    "# test = sc.transform(test)"
   ]
  },
  {
   "cell_type": "code",
   "execution_count": 49,
   "id": "ade57f56",
   "metadata": {
    "execution": {
     "iopub.execute_input": "2021-10-01T19:03:14.273221Z",
     "iopub.status.busy": "2021-10-01T19:03:14.272584Z",
     "iopub.status.idle": "2021-10-01T19:03:14.435552Z",
     "shell.execute_reply": "2021-10-01T19:03:14.435027Z",
     "shell.execute_reply.started": "2021-10-01T18:47:21.265343Z"
    },
    "papermill": {
     "duration": 0.181863,
     "end_time": "2021-10-01T19:03:14.435720",
     "exception": false,
     "start_time": "2021-10-01T19:03:14.253857",
     "status": "completed"
    },
    "tags": []
   },
   "outputs": [],
   "source": [
    "X_train, X_test, y_train, y_test = train_test_split(X, y, test_size=0.33, random_state=69)"
   ]
  },
  {
   "cell_type": "code",
   "execution_count": 50,
   "id": "0baaf5ae",
   "metadata": {
    "execution": {
     "iopub.execute_input": "2021-10-01T19:03:14.470976Z",
     "iopub.status.busy": "2021-10-01T19:03:14.470005Z",
     "iopub.status.idle": "2021-10-01T19:03:14.472563Z",
     "shell.execute_reply": "2021-10-01T19:03:14.472092Z",
     "shell.execute_reply.started": "2021-10-01T18:47:23.844137Z"
    },
    "papermill": {
     "duration": 0.021741,
     "end_time": "2021-10-01T19:03:14.472708",
     "exception": false,
     "start_time": "2021-10-01T19:03:14.450967",
     "status": "completed"
    },
    "tags": []
   },
   "outputs": [],
   "source": [
    "EPOCHS = 15\n",
    "BATCH_SIZE = 64\n",
    "LEARNING_RATE = 0.001"
   ]
  },
  {
   "cell_type": "code",
   "execution_count": 51,
   "id": "4eaa4c07",
   "metadata": {
    "execution": {
     "iopub.execute_input": "2021-10-01T19:03:14.506196Z",
     "iopub.status.busy": "2021-10-01T19:03:14.505594Z",
     "iopub.status.idle": "2021-10-01T19:03:14.511954Z",
     "shell.execute_reply": "2021-10-01T19:03:14.512517Z",
     "shell.execute_reply.started": "2021-10-01T18:47:27.102630Z"
    },
    "papermill": {
     "duration": 0.024961,
     "end_time": "2021-10-01T19:03:14.512697",
     "exception": false,
     "start_time": "2021-10-01T19:03:14.487736",
     "status": "completed"
    },
    "tags": []
   },
   "outputs": [],
   "source": [
    "class PatientTrain(Dataset):\n",
    "    \n",
    "    def __init__(self, X_data, y_data):\n",
    "        self.X_data = X_data\n",
    "        self.y_data = y_data\n",
    "        \n",
    "    def __getitem__(self, index):\n",
    "        return self.X_data[index], self.y_data[index]\n",
    "        \n",
    "    def __len__ (self):\n",
    "        return len(self.X_data)\n",
    "\n",
    "\n",
    "## test data    \n",
    "class PatientTest(Dataset):\n",
    "    \n",
    "    def __init__(self, X_data):\n",
    "        self.X_data = X_data\n",
    "        \n",
    "    def __getitem__(self, index):\n",
    "        return self.X_data[index]\n",
    "        \n",
    "    def __len__ (self):\n",
    "        return len(self.X_data)\n",
    "    \n",
    "\n"
   ]
  },
  {
   "cell_type": "code",
   "execution_count": 52,
   "id": "63565234",
   "metadata": {
    "execution": {
     "iopub.execute_input": "2021-10-01T19:03:14.557418Z",
     "iopub.status.busy": "2021-10-01T19:03:14.556780Z",
     "iopub.status.idle": "2021-10-01T19:03:14.591388Z",
     "shell.execute_reply": "2021-10-01T19:03:14.592302Z",
     "shell.execute_reply.started": "2021-10-01T18:47:34.436300Z"
    },
    "papermill": {
     "duration": 0.063147,
     "end_time": "2021-10-01T19:03:14.592473",
     "exception": false,
     "start_time": "2021-10-01T19:03:14.529326",
     "status": "completed"
    },
    "tags": []
   },
   "outputs": [],
   "source": [
    "train_data = PatientTrain(torch.FloatTensor(X_train), \n",
    "                       torch.FloatTensor(y_train))\n",
    "\n",
    "test_data = PatientTest(torch.FloatTensor(X_test))"
   ]
  },
  {
   "cell_type": "code",
   "execution_count": 53,
   "id": "b9268c9e",
   "metadata": {
    "execution": {
     "iopub.execute_input": "2021-10-01T19:03:14.627795Z",
     "iopub.status.busy": "2021-10-01T19:03:14.626779Z",
     "iopub.status.idle": "2021-10-01T19:03:14.631175Z",
     "shell.execute_reply": "2021-10-01T19:03:14.631792Z",
     "shell.execute_reply.started": "2021-10-01T18:47:36.992891Z"
    },
    "papermill": {
     "duration": 0.024076,
     "end_time": "2021-10-01T19:03:14.631989",
     "exception": false,
     "start_time": "2021-10-01T19:03:14.607913",
     "status": "completed"
    },
    "tags": []
   },
   "outputs": [],
   "source": [
    "train_loader = DataLoader(dataset=train_data, batch_size=BATCH_SIZE, shuffle=True)\n",
    "test_loader = DataLoader(dataset=test_data, batch_size=1)"
   ]
  },
  {
   "cell_type": "code",
   "execution_count": 54,
   "id": "e3c5a20b",
   "metadata": {
    "execution": {
     "iopub.execute_input": "2021-10-01T19:03:14.670393Z",
     "iopub.status.busy": "2021-10-01T19:03:14.669659Z",
     "iopub.status.idle": "2021-10-01T19:03:14.673335Z",
     "shell.execute_reply": "2021-10-01T19:03:14.673821Z",
     "shell.execute_reply.started": "2021-10-01T18:48:26.674592Z"
    },
    "papermill": {
     "duration": 0.026929,
     "end_time": "2021-10-01T19:03:14.673979",
     "exception": false,
     "start_time": "2021-10-01T19:03:14.647050",
     "status": "completed"
    },
    "tags": []
   },
   "outputs": [
    {
     "data": {
      "text/plain": [
       "(35585, 129)"
      ]
     },
     "execution_count": 54,
     "metadata": {},
     "output_type": "execute_result"
    }
   ],
   "source": [
    "X_train.shape"
   ]
  },
  {
   "cell_type": "code",
   "execution_count": 55,
   "id": "0db29ebd",
   "metadata": {
    "execution": {
     "iopub.execute_input": "2021-10-01T19:03:14.714845Z",
     "iopub.status.busy": "2021-10-01T19:03:14.709460Z",
     "iopub.status.idle": "2021-10-01T19:03:14.716419Z",
     "shell.execute_reply": "2021-10-01T19:03:14.716971Z",
     "shell.execute_reply.started": "2021-10-01T18:48:51.365623Z"
    },
    "papermill": {
     "duration": 0.027655,
     "end_time": "2021-10-01T19:03:14.717129",
     "exception": false,
     "start_time": "2021-10-01T19:03:14.689474",
     "status": "completed"
    },
    "tags": []
   },
   "outputs": [],
   "source": [
    "class PatientNet(nn.Module):\n",
    "    def __init__(self):\n",
    "        super(PatientNet, self).__init__()\n",
    "        # Number of input features is 129.\n",
    "        self.layer_1 = nn.Linear(129, 64) \n",
    "        self.layer_2 = nn.Linear(64, 64)\n",
    "        self.layer_out = nn.Linear(64, 1) \n",
    "        \n",
    "        self.relu = nn.ReLU()\n",
    "        self.dropout = nn.Dropout(p=0.1)\n",
    "       \n",
    "        \n",
    "    def forward(self, inputs):\n",
    "        x = self.relu(self.layer_1(inputs))\n",
    "        x = self.relu(self.layer_2(x))\n",
    "        x = self.dropout(x)\n",
    "        x = self.layer_out(x)\n",
    "        \n",
    "        return x"
   ]
  },
  {
   "cell_type": "code",
   "execution_count": 56,
   "id": "06c3ff8b",
   "metadata": {
    "execution": {
     "iopub.execute_input": "2021-10-01T19:03:14.751811Z",
     "iopub.status.busy": "2021-10-01T19:03:14.751137Z",
     "iopub.status.idle": "2021-10-01T19:03:14.757988Z",
     "shell.execute_reply": "2021-10-01T19:03:14.758413Z",
     "shell.execute_reply.started": "2021-10-01T18:48:54.366089Z"
    },
    "papermill": {
     "duration": 0.026027,
     "end_time": "2021-10-01T19:03:14.758572",
     "exception": false,
     "start_time": "2021-10-01T19:03:14.732545",
     "status": "completed"
    },
    "tags": []
   },
   "outputs": [
    {
     "name": "stdout",
     "output_type": "stream",
     "text": [
      "cuda:0\n"
     ]
    }
   ],
   "source": [
    "device = torch.device(\"cuda:0\" if torch.cuda.is_available() else \"cpu\")\n",
    "print(device)\n",
    "##############"
   ]
  },
  {
   "cell_type": "code",
   "execution_count": 57,
   "id": "78f830b2",
   "metadata": {
    "execution": {
     "iopub.execute_input": "2021-10-01T19:03:14.798875Z",
     "iopub.status.busy": "2021-10-01T19:03:14.798206Z",
     "iopub.status.idle": "2021-10-01T19:03:14.823180Z",
     "shell.execute_reply": "2021-10-01T19:03:14.823697Z",
     "shell.execute_reply.started": "2021-10-01T18:48:56.767041Z"
    },
    "papermill": {
     "duration": 0.049582,
     "end_time": "2021-10-01T19:03:14.823885",
     "exception": false,
     "start_time": "2021-10-01T19:03:14.774303",
     "status": "completed"
    },
    "tags": []
   },
   "outputs": [
    {
     "name": "stdout",
     "output_type": "stream",
     "text": [
      "PatientNet(\n",
      "  (layer_1): Linear(in_features=129, out_features=64, bias=True)\n",
      "  (layer_2): Linear(in_features=64, out_features=64, bias=True)\n",
      "  (layer_out): Linear(in_features=64, out_features=1, bias=True)\n",
      "  (relu): ReLU()\n",
      "  (dropout): Dropout(p=0.1, inplace=False)\n",
      ")\n"
     ]
    }
   ],
   "source": [
    "model = PatientNet()\n",
    "model.to(device)\n",
    "print(model)\n",
    "criterion = nn.BCEWithLogitsLoss()\n",
    "optimizer = optim.Adam(model.parameters(), lr=LEARNING_RATE)\n"
   ]
  },
  {
   "cell_type": "code",
   "execution_count": 58,
   "id": "8713402b",
   "metadata": {
    "execution": {
     "iopub.execute_input": "2021-10-01T19:03:14.861984Z",
     "iopub.status.busy": "2021-10-01T19:03:14.858860Z",
     "iopub.status.idle": "2021-10-01T19:03:14.864762Z",
     "shell.execute_reply": "2021-10-01T19:03:14.865265Z",
     "shell.execute_reply.started": "2021-10-01T18:48:59.784126Z"
    },
    "papermill": {
     "duration": 0.025438,
     "end_time": "2021-10-01T19:03:14.865420",
     "exception": false,
     "start_time": "2021-10-01T19:03:14.839982",
     "status": "completed"
    },
    "tags": []
   },
   "outputs": [],
   "source": [
    "def binary_acc(y_pred, y_test):\n",
    "    y_pred_tag = torch.round(torch.sigmoid(y_pred))\n",
    "\n",
    "    correct_results_sum = (y_pred_tag == y_test).sum().float()\n",
    "    acc = correct_results_sum/y_test.shape[0]\n",
    "    acc = torch.round(acc * 100)\n",
    "    \n",
    "    return acc"
   ]
  },
  {
   "cell_type": "code",
   "execution_count": 59,
   "id": "6ed70760",
   "metadata": {
    "execution": {
     "iopub.execute_input": "2021-10-01T19:03:14.908166Z",
     "iopub.status.busy": "2021-10-01T19:03:14.907042Z",
     "iopub.status.idle": "2021-10-01T19:03:49.337837Z",
     "shell.execute_reply": "2021-10-01T19:03:49.337204Z",
     "shell.execute_reply.started": "2021-10-01T18:49:02.664897Z"
    },
    "papermill": {
     "duration": 34.456316,
     "end_time": "2021-10-01T19:03:49.337999",
     "exception": false,
     "start_time": "2021-10-01T19:03:14.881683",
     "status": "completed"
    },
    "tags": []
   },
   "outputs": [
    {
     "name": "stdout",
     "output_type": "stream",
     "text": [
      "Epoch 001: | Loss: 0.23207 | Acc: 91.910\n",
      "Epoch 002: | Loss: 0.20030 | Acc: 92.722\n",
      "Epoch 003: | Loss: 0.19388 | Acc: 92.905\n",
      "Epoch 004: | Loss: 0.18995 | Acc: 92.984\n",
      "Epoch 005: | Loss: 0.18507 | Acc: 93.115\n",
      "Epoch 006: | Loss: 0.18086 | Acc: 93.339\n",
      "Epoch 007: | Loss: 0.17792 | Acc: 93.402\n",
      "Epoch 008: | Loss: 0.17240 | Acc: 93.607\n",
      "Epoch 009: | Loss: 0.16683 | Acc: 93.725\n",
      "Epoch 010: | Loss: 0.16150 | Acc: 93.973\n",
      "Epoch 011: | Loss: 0.15684 | Acc: 94.176\n",
      "Epoch 012: | Loss: 0.15110 | Acc: 94.390\n",
      "Epoch 013: | Loss: 0.14615 | Acc: 94.580\n",
      "Epoch 014: | Loss: 0.14093 | Acc: 94.738\n",
      "Epoch 015: | Loss: 0.13631 | Acc: 94.925\n"
     ]
    }
   ],
   "source": [
    "losss = []\n",
    "epoch_losss = []\n",
    "epoch_accc = []\n",
    "accs = []\n",
    "model.train()\n",
    "for e in range(1, EPOCHS+1):\n",
    "    epoch_loss = 0\n",
    "    epoch_acc = 0\n",
    "    for X_batch, y_batch in train_loader:\n",
    "        X_batch, y_batch = X_batch.to(device), y_batch.to(device)\n",
    "        optimizer.zero_grad()\n",
    "        \n",
    "        y_pred = model(X_batch)\n",
    "        \n",
    "        loss = criterion(y_pred, y_batch.unsqueeze(1))\n",
    "        acc = binary_acc(y_pred, y_batch.unsqueeze(1))\n",
    "        \n",
    "        loss.backward()\n",
    "        optimizer.step()\n",
    "        \n",
    "        epoch_loss += loss.item()\n",
    "        epoch_acc += acc.item()\n",
    "        losss.append(epoch_loss)\n",
    "        accs.append(epoch_acc)\n",
    "    epoch_losss.append(epoch_loss/len(train_loader))\n",
    "    epoch_accc.append(epoch_acc/len(train_loader))\n",
    "\n",
    "    print(f'Epoch {e+0:03}: | Loss: {epoch_loss/len(train_loader):.5f} | Acc: {epoch_acc/len(train_loader):.3f}')"
   ]
  },
  {
   "cell_type": "code",
   "execution_count": 60,
   "id": "e4bb5ff3",
   "metadata": {},
   "outputs": [
    {
     "data": {
      "image/png": "[encoded data removed]",
      "text/plain": [
       "<Figure size 432x288 with 1 Axes>"
      ]
     },
     "metadata": {
      "needs_background": "light"
     },
     "output_type": "display_data"
    }
   ],
   "source": [
    "#plot loss and accuracy\n",
    "plt.plot(epoch_losss, label='loss')\n",
    "plt.legend()\n",
    "plt.show()\n"
   ]
  },
  {
   "cell_type": "code",
   "execution_count": 61,
   "id": "01ae9544",
   "metadata": {},
   "outputs": [
    {
     "data": {
      "image/png": "[encoded data removed]",
      "text/plain": [
       "<Figure size 432x288 with 1 Axes>"
      ]
     },
     "metadata": {
      "needs_background": "light"
     },
     "output_type": "display_data"
    }
   ],
   "source": [
    "plt.plot(epoch_accc, label='accuracy')\n",
    "plt.legend()\n",
    "plt.show()\n"
   ]
  },
  {
   "cell_type": "code",
   "execution_count": 62,
   "id": "1cda8df1",
   "metadata": {
    "execution": {
     "iopub.execute_input": "2021-10-01T19:03:49.387606Z",
     "iopub.status.busy": "2021-10-01T19:03:49.386961Z",
     "iopub.status.idle": "2021-10-01T19:03:53.547131Z",
     "shell.execute_reply": "2021-10-01T19:03:53.547589Z",
     "shell.execute_reply.started": "2021-10-01T19:00:08.252844Z"
    },
    "papermill": {
     "duration": 4.187641,
     "end_time": "2021-10-01T19:03:53.547787",
     "exception": false,
     "start_time": "2021-10-01T19:03:49.360146",
     "status": "completed"
    },
    "tags": []
   },
   "outputs": [],
   "source": [
    "y_pred_list = []\n",
    "model.eval()\n",
    "with torch.no_grad():\n",
    "    for X_batch in test_loader:\n",
    "        X_batch = X_batch.to(device)\n",
    "        y_test_pred = model(X_batch)\n",
    "        y_test_pred = torch.sigmoid(y_test_pred)\n",
    "        y_pred_list.append(y_test_pred.cpu().numpy())\n",
    "\n",
    "y_pred_list = [a.squeeze().tolist() for a in y_pred_list]"
   ]
  }
 ],
 "metadata": {
  "kernelspec": {
   "display_name": "Python 3.8.12 ('Pytorch')",
   "language": "python",
   "name": "python3"
  },
  "language_info": {
   "codemirror_mode": {
    "name": "ipython",
    "version": 3
   },
   "file_extension": ".py",
   "mimetype": "text/x-python",
   "name": "python",
   "nbconvert_exporter": "python",
   "pygments_lexer": "ipython3",
   "version": "3.8.12"
  },
  "papermill": {
   "default_parameters": {},
   "duration": 89.543021,
   "end_time": "2021-10-01T19:03:54.277116",
   "environment_variables": {},
   "exception": null,
   "input_path": "__notebook__.ipynb",
   "output_path": "__notebook__.ipynb",
   "parameters": {},
   "start_time": "2021-10-01T19:02:24.734095",
   "version": "2.3.3"
  },
  "vscode": {
   "interpreter": {
    "hash": "18bf37941afe0a1631c7f267087d6536f68fa4d8fe6e6e08529e8c2d748f12c0"
   }
  }
 },
 "nbformat": 4,
 "nbformat_minor": 5
}
